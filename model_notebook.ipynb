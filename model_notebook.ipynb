{
 "cells": [
  {
   "cell_type": "code",
   "execution_count": 115,
   "id": "c4e73373",
   "metadata": {},
   "outputs": [],
   "source": [
    "from gensim import corpora, models, similarities\n",
    "import pandas as pd\n",
    "import jieba\n",
    "from collections import Counter"
   ]
  },
  {
   "cell_type": "code",
   "execution_count": 146,
   "id": "d05cd4ac",
   "metadata": {
    "scrolled": true
   },
   "outputs": [
    {
     "name": "stdout",
     "output_type": "stream",
     "text": [
      "9832\n",
      "9824\n"
     ]
    }
   ],
   "source": [
    "# read in data\n",
    "\n",
    "pubhealth = pd.read_csv(\"PUBHEALTH/train.tsv\", sep='\\t')\n",
    "dev = pd.read_csv(\"PUBHEALTH/dev.tsv\", sep='\\t')\n",
    "test = pd.read_csv(\"PUBHEALTH/test.tsv\", sep='\\t')\n",
    "\n",
    "print(len(pubhealth))\n",
    "\n",
    "# drop columns with no claims\n",
    "pubhealth = pubhealth.dropna(subset='claim')\n",
    "print(len(pubhealth))\n",
    "\n",
    "\n",
    "dev = dev.dropna(subset='claim')\n",
    "test = test.dropna(subset='claim')"
   ]
  },
  {
   "cell_type": "code",
   "execution_count": 147,
   "id": "ede3c1a9",
   "metadata": {},
   "outputs": [],
   "source": [
    "# format tags columns in df\n",
    "\n",
    "def format_tags(df):\n",
    "    tags = []\n",
    "    tag_lists = []\n",
    "\n",
    "    for subjects in df.subjects:\n",
    "        if type(subjects) is str:\n",
    "            s = subjects.split(\",\")\n",
    "        else:\n",
    "            if type(subjects) is list:\n",
    "                s = subjects\n",
    "            else:\n",
    "                s = []\n",
    "        s = [t.lstrip().rstrip() for t in s]\n",
    "        tag_lists.append(s)\n",
    "        for tag in s:\n",
    "            tags.append(tag)\n",
    "    df['tags'] = tag_lists\n",
    "    return df, tags"
   ]
  },
  {
   "cell_type": "code",
   "execution_count": 150,
   "id": "0ed568ed",
   "metadata": {},
   "outputs": [],
   "source": [
    "# format\n",
    "\n",
    "pubhealth, pubhealth_tags = format_tags(pubhealth)\n",
    "dev, dev_tags = format_tags(dev)\n",
    "test, test_tags = format_tags(test)"
   ]
  },
  {
   "cell_type": "markdown",
   "id": "7f9da01b",
   "metadata": {},
   "source": [
    "## Use Gensim model with whole training set"
   ]
  },
  {
   "cell_type": "code",
   "execution_count": 151,
   "id": "c5403f88",
   "metadata": {},
   "outputs": [],
   "source": [
    "# format pubhealth dataset for gensim\n",
    "\n",
    "claims = list(pubhealth[\"claim\"])\n",
    "texts = [jieba.lcut(text) for text in claims]\n",
    "dictionary = corpora.Dictionary(texts)\n",
    "feature_cnt = len(dictionary.token2id)\n",
    "corpus = [dictionary.doc2bow(text) for text in texts]\n",
    "tfidf = models.TfidfModel(corpus)     "
   ]
  },
  {
   "cell_type": "code",
   "execution_count": 152,
   "id": "ebabd8d1",
   "metadata": {},
   "outputs": [],
   "source": [
    "# claim = 'Dryer sheets are one of the very worst things from a chemical allergy standpoint.'\n",
    "claim = \"Chlorine in water causes gray hair.\""
   ]
  },
  {
   "cell_type": "code",
   "execution_count": 153,
   "id": "703b7ffa",
   "metadata": {},
   "outputs": [],
   "source": [
    "# claim\n",
    "\n",
    "kw_vector = dictionary.doc2bow(jieba.lcut(claim))\n",
    "\n",
    "# similarity\n",
    "\n",
    "index = similarities.SparseMatrixSimilarity(tfidf[corpus], num_features = feature_cnt)\n",
    "sim = index[tfidf[kw_vector]]"
   ]
  },
  {
   "cell_type": "code",
   "execution_count": 154,
   "id": "7b3c0bfd",
   "metadata": {},
   "outputs": [
    {
     "name": "stdout",
     "output_type": "stream",
     "text": [
      "INITIAL CLAIM:  Chlorine in water causes gray hair.\n",
      "\n",
      "0.31056017\n",
      "\n",
      "SIMILAR CLAIM:  People are putting hair removal creams in conditioner, causing hair loss.\n"
     ]
    }
   ],
   "source": [
    "sim_df = pd.DataFrame({\"claim\": claims, \"similarity\": sim})\n",
    "sim = sim_df.sort_values(\"similarity\", ascending=False).iloc[0]['similarity']\n",
    "top_claim = sim_df.sort_values(\"similarity\", ascending=False).iloc[0]['claim']\n",
    "\n",
    "print(\"INITIAL CLAIM: \", claim)\n",
    "print(\"\")\n",
    "print(sim)\n",
    "print(\"\")\n",
    "print(\"SIMILAR CLAIM: \", top_claim)"
   ]
  },
  {
   "cell_type": "code",
   "execution_count": 155,
   "id": "8af65678",
   "metadata": {},
   "outputs": [
    {
     "data": {
      "text/html": [
       "<div>\n",
       "<style scoped>\n",
       "    .dataframe tbody tr th:only-of-type {\n",
       "        vertical-align: middle;\n",
       "    }\n",
       "\n",
       "    .dataframe tbody tr th {\n",
       "        vertical-align: top;\n",
       "    }\n",
       "\n",
       "    .dataframe thead th {\n",
       "        text-align: right;\n",
       "    }\n",
       "</style>\n",
       "<table border=\"1\" class=\"dataframe\">\n",
       "  <thead>\n",
       "    <tr style=\"text-align: right;\">\n",
       "      <th></th>\n",
       "      <th>claim_id</th>\n",
       "      <th>claim</th>\n",
       "      <th>date_published</th>\n",
       "      <th>explanation</th>\n",
       "      <th>fact_checkers</th>\n",
       "      <th>main_text</th>\n",
       "      <th>sources</th>\n",
       "      <th>label</th>\n",
       "      <th>subjects</th>\n",
       "      <th>tags</th>\n",
       "    </tr>\n",
       "  </thead>\n",
       "  <tbody>\n",
       "    <tr>\n",
       "      <th>1572</th>\n",
       "      <td>36272</td>\n",
       "      <td>People are putting hair removal creams in cond...</td>\n",
       "      <td>August 1, 2019</td>\n",
       "      <td>Is Someone Putting Nair in Hair Conditioner Bo...</td>\n",
       "      <td>Kim LaCapria</td>\n",
       "      <td>A pair of posts shared to Facebook on July 28 ...</td>\n",
       "      <td>https://www.truthorfiction.com/officemax-bulle...</td>\n",
       "      <td>unproven</td>\n",
       "      <td>Fact Checks, Viral Content</td>\n",
       "      <td>[Fact Checks, Viral Content]</td>\n",
       "    </tr>\n",
       "  </tbody>\n",
       "</table>\n",
       "</div>"
      ],
      "text/plain": [
       "     claim_id                                              claim  \\\n",
       "1572    36272  People are putting hair removal creams in cond...   \n",
       "\n",
       "      date_published                                        explanation  \\\n",
       "1572  August 1, 2019  Is Someone Putting Nair in Hair Conditioner Bo...   \n",
       "\n",
       "         fact_checkers                                          main_text  \\\n",
       "1572    Kim LaCapria    A pair of posts shared to Facebook on July 28 ...   \n",
       "\n",
       "                                                sources     label  \\\n",
       "1572  https://www.truthorfiction.com/officemax-bulle...  unproven   \n",
       "\n",
       "                        subjects                          tags  \n",
       "1572  Fact Checks, Viral Content  [Fact Checks, Viral Content]  "
      ]
     },
     "execution_count": 155,
     "metadata": {},
     "output_type": "execute_result"
    }
   ],
   "source": [
    "pubhealth[pubhealth['claim'] == top_claim]"
   ]
  },
  {
   "cell_type": "markdown",
   "id": "f43b5d9e",
   "metadata": {},
   "source": [
    "# Gensim model with only health tagged claims"
   ]
  },
  {
   "cell_type": "code",
   "execution_count": 156,
   "id": "d7c9e805",
   "metadata": {},
   "outputs": [],
   "source": [
    "health_tags = ['Health', 'Health News', \"Health Care\", 'Medical', 'Public Health']"
   ]
  },
  {
   "cell_type": "code",
   "execution_count": 158,
   "id": "c59e44ad",
   "metadata": {},
   "outputs": [],
   "source": [
    "def health(x):\n",
    "    for t in health_tags:\n",
    "        if t in x:\n",
    "            return True\n",
    "    return False\n",
    "\n",
    "mask = pubhealth.tags.apply(lambda x: health(x))\n",
    "health_df = pubhealth[mask]"
   ]
  },
  {
   "cell_type": "code",
   "execution_count": 159,
   "id": "e0340056",
   "metadata": {},
   "outputs": [],
   "source": [
    "# format pubhealth dataset for gensim\n",
    "\n",
    "claims = list(health_df[\"claim\"])\n",
    "texts = [jieba.lcut(text) for text in claims]\n",
    "dictionary = corpora.Dictionary(texts)\n",
    "feature_cnt = len(dictionary.token2id)\n",
    "corpus = [dictionary.doc2bow(text) for text in texts]\n",
    "tfidf = models.TfidfModel(corpus) "
   ]
  },
  {
   "cell_type": "code",
   "execution_count": 160,
   "id": "148755bc",
   "metadata": {},
   "outputs": [],
   "source": [
    "#claim = 'Dryer sheets are one of the very worst things from a chemical allergy standpoint.'\n",
    "#claim = \"Chlorine in water causes gray hair.\"\n",
    "# claim = 'Cranberry juice is good for UTI.'\n",
    "claim = 'My hypothesis is that you should train your body how to properly and quickly flush itself of lactic acid without supplements.'"
   ]
  },
  {
   "cell_type": "code",
   "execution_count": 161,
   "id": "d693563e",
   "metadata": {},
   "outputs": [],
   "source": [
    "# claim\n",
    "\n",
    "kw_vector = dictionary.doc2bow(jieba.lcut(claim))\n",
    "\n",
    "# similarity\n",
    "\n",
    "index = similarities.SparseMatrixSimilarity(tfidf[corpus], num_features = feature_cnt)\n",
    "sim = index[tfidf[kw_vector]]"
   ]
  },
  {
   "cell_type": "code",
   "execution_count": 162,
   "id": "af15663f",
   "metadata": {},
   "outputs": [
    {
     "name": "stdout",
     "output_type": "stream",
     "text": [
      "INITIAL CLAIM:  My hypothesis is that you should train your body how to properly and quickly flush itself of lactic acid without supplements.\n",
      "\n",
      "0.2626656\n",
      "\n",
      "SIMILAR CLAIM:  Mixing cream of tartar with orange juice will flush nicotine from your body and help you quit smoking faster. \n"
     ]
    }
   ],
   "source": [
    "sim_df = pd.DataFrame({\"claim\": claims, \"similarity\": sim})\n",
    "sim = sim_df.sort_values(\"similarity\", ascending=False).iloc[0]['similarity']\n",
    "top_claim = sim_df.sort_values(\"similarity\", ascending=False).iloc[0]['claim']\n",
    "\n",
    "print(\"INITIAL CLAIM: \", claim)\n",
    "print(\"\")\n",
    "print(sim)\n",
    "print(\"\")\n",
    "print(\"SIMILAR CLAIM: \", top_claim)"
   ]
  },
  {
   "cell_type": "code",
   "execution_count": 163,
   "id": "92796c93",
   "metadata": {},
   "outputs": [
    {
     "data": {
      "text/html": [
       "<div>\n",
       "<style scoped>\n",
       "    .dataframe tbody tr th:only-of-type {\n",
       "        vertical-align: middle;\n",
       "    }\n",
       "\n",
       "    .dataframe tbody tr th {\n",
       "        vertical-align: top;\n",
       "    }\n",
       "\n",
       "    .dataframe thead th {\n",
       "        text-align: right;\n",
       "    }\n",
       "</style>\n",
       "<table border=\"1\" class=\"dataframe\">\n",
       "  <thead>\n",
       "    <tr style=\"text-align: right;\">\n",
       "      <th></th>\n",
       "      <th>claim_id</th>\n",
       "      <th>claim</th>\n",
       "      <th>date_published</th>\n",
       "      <th>explanation</th>\n",
       "      <th>fact_checkers</th>\n",
       "      <th>main_text</th>\n",
       "      <th>sources</th>\n",
       "      <th>label</th>\n",
       "      <th>subjects</th>\n",
       "      <th>tags</th>\n",
       "    </tr>\n",
       "  </thead>\n",
       "  <tbody>\n",
       "    <tr>\n",
       "      <th>8485</th>\n",
       "      <td>34070</td>\n",
       "      <td>Mixing cream of tartar with orange juice will ...</td>\n",
       "      <td>October 24, 2019</td>\n",
       "      <td>Because no published support exists for the cl...</td>\n",
       "      <td>Alex Kasprak</td>\n",
       "      <td>A viral story on Shareably first published in ...</td>\n",
       "      <td></td>\n",
       "      <td>false</td>\n",
       "      <td>Medical</td>\n",
       "      <td>[Medical]</td>\n",
       "    </tr>\n",
       "  </tbody>\n",
       "</table>\n",
       "</div>"
      ],
      "text/plain": [
       "     claim_id                                              claim  \\\n",
       "8485    34070  Mixing cream of tartar with orange juice will ...   \n",
       "\n",
       "        date_published                                        explanation  \\\n",
       "8485  October 24, 2019  Because no published support exists for the cl...   \n",
       "\n",
       "     fact_checkers                                          main_text sources  \\\n",
       "8485  Alex Kasprak  A viral story on Shareably first published in ...           \n",
       "\n",
       "      label subjects       tags  \n",
       "8485  false  Medical  [Medical]  "
      ]
     },
     "execution_count": 163,
     "metadata": {},
     "output_type": "execute_result"
    }
   ],
   "source": [
    "pubhealth[pubhealth['claim'] == top_claim]"
   ]
  },
  {
   "cell_type": "markdown",
   "id": "3bbc3e7f",
   "metadata": {},
   "source": [
    "## Gensim model with only health tagged claims tested on dev set"
   ]
  },
  {
   "cell_type": "code",
   "execution_count": 165,
   "id": "fc678d8a",
   "metadata": {},
   "outputs": [
    {
     "name": "stderr",
     "output_type": "stream",
     "text": [
      "/var/folders/__/6ygy68tn6c74340_57scyx500000gn/T/ipykernel_67600/2225327524.py:2: UserWarning: Boolean Series key will be reindexed to match DataFrame index.\n",
      "  dev_health_df = dev[mask]\n"
     ]
    }
   ],
   "source": [
    "dev_mask = dev.tags.apply(lambda x: health(x))\n",
    "dev_health_df = dev[mask]"
   ]
  },
  {
   "cell_type": "code",
   "execution_count": null,
   "id": "9bf00b12",
   "metadata": {},
   "outputs": [],
   "source": []
  }
 ],
 "metadata": {
  "kernelspec": {
   "display_name": "Python 3 (ipykernel)",
   "language": "python",
   "name": "python3"
  },
  "language_info": {
   "codemirror_mode": {
    "name": "ipython",
    "version": 3
   },
   "file_extension": ".py",
   "mimetype": "text/x-python",
   "name": "python",
   "nbconvert_exporter": "python",
   "pygments_lexer": "ipython3",
   "version": "3.9.13"
  }
 },
 "nbformat": 4,
 "nbformat_minor": 5
}
