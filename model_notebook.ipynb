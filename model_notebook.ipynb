{
 "cells": [
  {
   "cell_type": "code",
   "execution_count": 187,
   "id": "42cff55d",
   "metadata": {},
   "outputs": [],
   "source": [
    "from gensim import corpora, models, similarities\n",
    "import pandas as pd\n",
    "import jieba\n",
    "from collections import Counter\n",
    "import seaborn as sns"
   ]
  },
  {
   "cell_type": "code",
   "execution_count": 146,
   "id": "a9cd826d",
   "metadata": {
    "scrolled": true
   },
   "outputs": [
    {
     "name": "stdout",
     "output_type": "stream",
     "text": [
      "9832\n",
      "9824\n"
     ]
    }
   ],
   "source": [
    "# read in data\n",
    "\n",
    "pubhealth = pd.read_csv(\"PUBHEALTH/train.tsv\", sep='\\t')\n",
    "dev = pd.read_csv(\"PUBHEALTH/dev.tsv\", sep='\\t')\n",
    "test = pd.read_csv(\"PUBHEALTH/test.tsv\", sep='\\t')\n",
    "\n",
    "print(len(pubhealth))\n",
    "\n",
    "# drop columns with no claims\n",
    "pubhealth = pubhealth.dropna(subset='claim')\n",
    "print(len(pubhealth))\n",
    "\n",
    "\n",
    "dev = dev.dropna(subset='claim')\n",
    "test = test.dropna(subset='claim')"
   ]
  },
  {
   "cell_type": "code",
   "execution_count": 147,
   "id": "7b7ca67e",
   "metadata": {},
   "outputs": [],
   "source": [
    "# format tags columns in df\n",
    "\n",
    "def format_tags(df):\n",
    "    tags = []\n",
    "    tag_lists = []\n",
    "\n",
    "    for subjects in df.subjects:\n",
    "        if type(subjects) is str:\n",
    "            s = subjects.split(\",\")\n",
    "        else:\n",
    "            if type(subjects) is list:\n",
    "                s = subjects\n",
    "            else:\n",
    "                s = []\n",
    "        s = [t.lstrip().rstrip() for t in s]\n",
    "        tag_lists.append(s)\n",
    "        for tag in s:\n",
    "            tags.append(tag)\n",
    "    df['tags'] = tag_lists\n",
    "    return df, tags"
   ]
  },
  {
   "cell_type": "code",
   "execution_count": 150,
   "id": "821bec8a",
   "metadata": {},
   "outputs": [],
   "source": [
    "# format\n",
    "\n",
    "pubhealth, pubhealth_tags = format_tags(pubhealth)\n",
    "dev, dev_tags = format_tags(dev)\n",
    "test, test_tags = format_tags(test)"
   ]
  },
  {
   "cell_type": "markdown",
   "id": "65a45886",
   "metadata": {},
   "source": [
    "## Use Gensim model with whole training set"
   ]
  },
  {
   "cell_type": "code",
   "execution_count": 151,
   "id": "78c61400",
   "metadata": {},
   "outputs": [],
   "source": [
    "# format pubhealth dataset for gensim\n",
    "\n",
    "claims = list(pubhealth[\"claim\"])\n",
    "texts = [jieba.lcut(text) for text in claims]\n",
    "dictionary = corpora.Dictionary(texts)\n",
    "feature_cnt = len(dictionary.token2id)\n",
    "corpus = [dictionary.doc2bow(text) for text in texts]\n",
    "tfidf = models.TfidfModel(corpus)     "
   ]
  },
  {
   "cell_type": "code",
   "execution_count": 152,
   "id": "8161356f",
   "metadata": {},
   "outputs": [],
   "source": [
    "# claim = 'Dryer sheets are one of the very worst things from a chemical allergy standpoint.'\n",
    "claim = \"Chlorine in water causes gray hair.\""
   ]
  },
  {
   "cell_type": "code",
   "execution_count": 153,
   "id": "67d6e4aa",
   "metadata": {},
   "outputs": [],
   "source": [
    "# claim\n",
    "\n",
    "kw_vector = dictionary.doc2bow(jieba.lcut(claim))\n",
    "\n",
    "# similarity\n",
    "\n",
    "index = similarities.SparseMatrixSimilarity(tfidf[corpus], num_features = feature_cnt)\n",
    "sim = index[tfidf[kw_vector]]"
   ]
  },
  {
   "cell_type": "code",
   "execution_count": 154,
   "id": "d72d3c4d",
   "metadata": {},
   "outputs": [
    {
     "name": "stdout",
     "output_type": "stream",
     "text": [
      "INITIAL CLAIM:  Chlorine in water causes gray hair.\n",
      "\n",
      "0.31056017\n",
      "\n",
      "SIMILAR CLAIM:  People are putting hair removal creams in conditioner, causing hair loss.\n"
     ]
    }
   ],
   "source": [
    "sim_df = pd.DataFrame({\"claim\": claims, \"similarity\": sim})\n",
    "sim = sim_df.sort_values(\"similarity\", ascending=False).iloc[0]['similarity']\n",
    "top_claim = sim_df.sort_values(\"similarity\", ascending=False).iloc[0]['claim']\n",
    "\n",
    "print(\"INITIAL CLAIM: \", claim)\n",
    "print(\"\")\n",
    "print(sim)\n",
    "print(\"\")\n",
    "print(\"SIMILAR CLAIM: \", top_claim)"
   ]
  },
  {
   "cell_type": "code",
   "execution_count": 155,
   "id": "f52df8a7",
   "metadata": {},
   "outputs": [
    {
     "data": {
      "text/html": [
       "<div>\n",
       "<style scoped>\n",
       "    .dataframe tbody tr th:only-of-type {\n",
       "        vertical-align: middle;\n",
       "    }\n",
       "\n",
       "    .dataframe tbody tr th {\n",
       "        vertical-align: top;\n",
       "    }\n",
       "\n",
       "    .dataframe thead th {\n",
       "        text-align: right;\n",
       "    }\n",
       "</style>\n",
       "<table border=\"1\" class=\"dataframe\">\n",
       "  <thead>\n",
       "    <tr style=\"text-align: right;\">\n",
       "      <th></th>\n",
       "      <th>claim_id</th>\n",
       "      <th>claim</th>\n",
       "      <th>date_published</th>\n",
       "      <th>explanation</th>\n",
       "      <th>fact_checkers</th>\n",
       "      <th>main_text</th>\n",
       "      <th>sources</th>\n",
       "      <th>label</th>\n",
       "      <th>subjects</th>\n",
       "      <th>tags</th>\n",
       "    </tr>\n",
       "  </thead>\n",
       "  <tbody>\n",
       "    <tr>\n",
       "      <th>1572</th>\n",
       "      <td>36272</td>\n",
       "      <td>People are putting hair removal creams in cond...</td>\n",
       "      <td>August 1, 2019</td>\n",
       "      <td>Is Someone Putting Nair in Hair Conditioner Bo...</td>\n",
       "      <td>Kim LaCapria</td>\n",
       "      <td>A pair of posts shared to Facebook on July 28 ...</td>\n",
       "      <td>https://www.truthorfiction.com/officemax-bulle...</td>\n",
       "      <td>unproven</td>\n",
       "      <td>Fact Checks, Viral Content</td>\n",
       "      <td>[Fact Checks, Viral Content]</td>\n",
       "    </tr>\n",
       "  </tbody>\n",
       "</table>\n",
       "</div>"
      ],
      "text/plain": [
       "     claim_id                                              claim  \\\n",
       "1572    36272  People are putting hair removal creams in cond...   \n",
       "\n",
       "      date_published                                        explanation  \\\n",
       "1572  August 1, 2019  Is Someone Putting Nair in Hair Conditioner Bo...   \n",
       "\n",
       "         fact_checkers                                          main_text  \\\n",
       "1572    Kim LaCapria    A pair of posts shared to Facebook on July 28 ...   \n",
       "\n",
       "                                                sources     label  \\\n",
       "1572  https://www.truthorfiction.com/officemax-bulle...  unproven   \n",
       "\n",
       "                        subjects                          tags  \n",
       "1572  Fact Checks, Viral Content  [Fact Checks, Viral Content]  "
      ]
     },
     "execution_count": 155,
     "metadata": {},
     "output_type": "execute_result"
    }
   ],
   "source": [
    "pubhealth[pubhealth['claim'] == top_claim]"
   ]
  },
  {
   "cell_type": "markdown",
   "id": "5996ed57",
   "metadata": {},
   "source": [
    "# Gensim model with only health tagged claims"
   ]
  },
  {
   "cell_type": "code",
   "execution_count": 156,
   "id": "b1438c19",
   "metadata": {},
   "outputs": [],
   "source": [
    "health_tags = ['Health', 'Health News', \"Health Care\", 'Medical', 'Public Health']"
   ]
  },
  {
   "cell_type": "code",
   "execution_count": 158,
   "id": "f9057e3e",
   "metadata": {},
   "outputs": [],
   "source": [
    "def health(x):\n",
    "    for t in health_tags:\n",
    "        if t in x:\n",
    "            return True\n",
    "    return False\n",
    "\n",
    "mask = pubhealth.tags.apply(lambda x: health(x))\n",
    "health_df = pubhealth[mask]"
   ]
  },
  {
   "cell_type": "code",
   "execution_count": 159,
   "id": "1112e1d0",
   "metadata": {},
   "outputs": [],
   "source": [
    "# format pubhealth dataset for gensim\n",
    "\n",
    "claims = list(health_df[\"claim\"])\n",
    "texts = [jieba.lcut(text) for text in claims]\n",
    "dictionary = corpora.Dictionary(texts)\n",
    "feature_cnt = len(dictionary.token2id)\n",
    "corpus = [dictionary.doc2bow(text) for text in texts]\n",
    "tfidf = models.TfidfModel(corpus) "
   ]
  },
  {
   "cell_type": "code",
   "execution_count": 160,
   "id": "bb7a75d0",
   "metadata": {},
   "outputs": [],
   "source": [
    "#claim = 'Dryer sheets are one of the very worst things from a chemical allergy standpoint.'\n",
    "#claim = \"Chlorine in water causes gray hair.\"\n",
    "# claim = 'Cranberry juice is good for UTI.'\n",
    "claim = 'My hypothesis is that you should train your body how to properly and quickly flush itself of lactic acid without supplements.'"
   ]
  },
  {
   "cell_type": "code",
   "execution_count": 161,
   "id": "9f9728f2",
   "metadata": {},
   "outputs": [],
   "source": [
    "# claim\n",
    "\n",
    "kw_vector = dictionary.doc2bow(jieba.lcut(claim))\n",
    "\n",
    "# similarity\n",
    "\n",
    "index = similarities.SparseMatrixSimilarity(tfidf[corpus], num_features = feature_cnt)\n",
    "sim = index[tfidf[kw_vector]]"
   ]
  },
  {
   "cell_type": "code",
   "execution_count": 162,
   "id": "663293d3",
   "metadata": {},
   "outputs": [
    {
     "name": "stdout",
     "output_type": "stream",
     "text": [
      "INITIAL CLAIM:  My hypothesis is that you should train your body how to properly and quickly flush itself of lactic acid without supplements.\n",
      "\n",
      "0.2626656\n",
      "\n",
      "SIMILAR CLAIM:  Mixing cream of tartar with orange juice will flush nicotine from your body and help you quit smoking faster. \n"
     ]
    }
   ],
   "source": [
    "sim_df = pd.DataFrame({\"claim\": claims, \"similarity\": sim})\n",
    "sim = sim_df.sort_values(\"similarity\", ascending=False).iloc[0]['similarity']\n",
    "top_claim = sim_df.sort_values(\"similarity\", ascending=False).iloc[0]['claim']\n",
    "\n",
    "print(\"INITIAL CLAIM: \", claim)\n",
    "print(\"\")\n",
    "print(sim)\n",
    "print(\"\")\n",
    "print(\"SIMILAR CLAIM: \", top_claim)"
   ]
  },
  {
   "cell_type": "code",
   "execution_count": 163,
   "id": "7384cd41",
   "metadata": {},
   "outputs": [
    {
     "data": {
      "text/html": [
       "<div>\n",
       "<style scoped>\n",
       "    .dataframe tbody tr th:only-of-type {\n",
       "        vertical-align: middle;\n",
       "    }\n",
       "\n",
       "    .dataframe tbody tr th {\n",
       "        vertical-align: top;\n",
       "    }\n",
       "\n",
       "    .dataframe thead th {\n",
       "        text-align: right;\n",
       "    }\n",
       "</style>\n",
       "<table border=\"1\" class=\"dataframe\">\n",
       "  <thead>\n",
       "    <tr style=\"text-align: right;\">\n",
       "      <th></th>\n",
       "      <th>claim_id</th>\n",
       "      <th>claim</th>\n",
       "      <th>date_published</th>\n",
       "      <th>explanation</th>\n",
       "      <th>fact_checkers</th>\n",
       "      <th>main_text</th>\n",
       "      <th>sources</th>\n",
       "      <th>label</th>\n",
       "      <th>subjects</th>\n",
       "      <th>tags</th>\n",
       "    </tr>\n",
       "  </thead>\n",
       "  <tbody>\n",
       "    <tr>\n",
       "      <th>8485</th>\n",
       "      <td>34070</td>\n",
       "      <td>Mixing cream of tartar with orange juice will ...</td>\n",
       "      <td>October 24, 2019</td>\n",
       "      <td>Because no published support exists for the cl...</td>\n",
       "      <td>Alex Kasprak</td>\n",
       "      <td>A viral story on Shareably first published in ...</td>\n",
       "      <td></td>\n",
       "      <td>false</td>\n",
       "      <td>Medical</td>\n",
       "      <td>[Medical]</td>\n",
       "    </tr>\n",
       "  </tbody>\n",
       "</table>\n",
       "</div>"
      ],
      "text/plain": [
       "     claim_id                                              claim  \\\n",
       "8485    34070  Mixing cream of tartar with orange juice will ...   \n",
       "\n",
       "        date_published                                        explanation  \\\n",
       "8485  October 24, 2019  Because no published support exists for the cl...   \n",
       "\n",
       "     fact_checkers                                          main_text sources  \\\n",
       "8485  Alex Kasprak  A viral story on Shareably first published in ...           \n",
       "\n",
       "      label subjects       tags  \n",
       "8485  false  Medical  [Medical]  "
      ]
     },
     "execution_count": 163,
     "metadata": {},
     "output_type": "execute_result"
    }
   ],
   "source": [
    "pubhealth[pubhealth['claim'] == top_claim]"
   ]
  },
  {
   "cell_type": "markdown",
   "id": "714ebbf4",
   "metadata": {},
   "source": [
    "## Gensim model with only health tagged claims tested on dev set"
   ]
  },
  {
   "cell_type": "code",
   "execution_count": 165,
   "id": "532a75a0",
   "metadata": {},
   "outputs": [
    {
     "name": "stderr",
     "output_type": "stream",
     "text": [
      "/var/folders/__/6ygy68tn6c74340_57scyx500000gn/T/ipykernel_67600/2225327524.py:2: UserWarning: Boolean Series key will be reindexed to match DataFrame index.\n",
      "  dev_health_df = dev[mask]\n"
     ]
    }
   ],
   "source": [
    "dev_mask = dev.tags.apply(lambda x: health(x))\n",
    "dev_health_df = dev[mask]"
   ]
  },
  {
   "cell_type": "code",
   "execution_count": 170,
   "id": "e2eb6229",
   "metadata": {},
   "outputs": [
    {
     "data": {
      "text/plain": [
       "448"
      ]
     },
     "execution_count": 170,
     "metadata": {},
     "output_type": "execute_result"
    }
   ],
   "source": [
    "len(dev_health_df)"
   ]
  },
  {
   "cell_type": "code",
   "execution_count": 176,
   "id": "b60493dc",
   "metadata": {},
   "outputs": [
    {
     "name": "stdout",
     "output_type": "stream",
     "text": [
      "On 0 out of 448\n",
      "On 25 out of 448\n",
      "On 50 out of 448\n",
      "On 75 out of 448\n",
      "On 100 out of 448\n",
      "On 125 out of 448\n",
      "On 150 out of 448\n",
      "On 175 out of 448\n",
      "On 200 out of 448\n",
      "On 225 out of 448\n",
      "On 250 out of 448\n",
      "On 275 out of 448\n",
      "On 300 out of 448\n",
      "On 325 out of 448\n",
      "On 350 out of 448\n",
      "On 375 out of 448\n",
      "On 400 out of 448\n",
      "On 425 out of 448\n"
     ]
    }
   ],
   "source": [
    "initial_claims = []\n",
    "initial_label = []\n",
    "gensim_claims = []\n",
    "gensim_label = []\n",
    "sims = []\n",
    "\n",
    "for i in range(len(dev_health_df['claim'])):\n",
    "    # claim\n",
    "    if i % 25 == 0:\n",
    "        print(\"On \" + str(i) + \" out of \" + str(len(dev_health_df)))\n",
    "    claim = dev_health_df.iloc[i]['claim']\n",
    "    kw_vector = dictionary.doc2bow(jieba.lcut(claim))\n",
    "\n",
    "    # similarity\n",
    "    index = similarities.SparseMatrixSimilarity(tfidf[corpus], num_features = feature_cnt)\n",
    "    sim = index[tfidf[kw_vector]]\n",
    "    \n",
    "    sim_df = pd.DataFrame({\"claim\": claims, \"similarity\": sim})\n",
    "    sim = sim_df.sort_values(\"similarity\", ascending=False).iloc[0]['similarity']\n",
    "    top_claim = sim_df.sort_values(\"similarity\", ascending=False).iloc[0]['claim']\n",
    "    top_label = pubhealth[pubhealth['claim'] == top_claim].iloc[0]['label']\n",
    "    \n",
    "    initial_claims.append(claim)\n",
    "    initial_label.append(dev_health_df[dev_health_df[\"claim\"] == claim].iloc[0]['label'])\n",
    "    sims.append(sim)\n",
    "    gensim_claims.append(top_claim)\n",
    "    gensim_label.append(top_label)"
   ]
  },
  {
   "cell_type": "code",
   "execution_count": 177,
   "id": "d1db57ec",
   "metadata": {},
   "outputs": [],
   "source": [
    "final_dev = pd.DataFrame({\"initial claim\": initial_claims, \\\n",
    "                          \"initial label\": initial_label, \\\n",
    "                          \"gensim claim\": gensim_claims, \\\n",
    "                          \"gensim label\": gensim_label, \\\n",
    "                          \"similarity\": sims})"
   ]
  },
  {
   "cell_type": "code",
   "execution_count": 181,
   "id": "3f9f99a4",
   "metadata": {
    "scrolled": true
   },
   "outputs": [
    {
     "data": {
      "text/html": [
       "<div>\n",
       "<style scoped>\n",
       "    .dataframe tbody tr th:only-of-type {\n",
       "        vertical-align: middle;\n",
       "    }\n",
       "\n",
       "    .dataframe tbody tr th {\n",
       "        vertical-align: top;\n",
       "    }\n",
       "\n",
       "    .dataframe thead th {\n",
       "        text-align: right;\n",
       "    }\n",
       "</style>\n",
       "<table border=\"1\" class=\"dataframe\">\n",
       "  <thead>\n",
       "    <tr style=\"text-align: right;\">\n",
       "      <th></th>\n",
       "      <th>initial claim</th>\n",
       "      <th>initial label</th>\n",
       "      <th>gensim claim</th>\n",
       "      <th>gensim label</th>\n",
       "      <th>similarity</th>\n",
       "    </tr>\n",
       "  </thead>\n",
       "  <tbody>\n",
       "    <tr>\n",
       "      <th>0</th>\n",
       "      <td>School closures will have little impact on COV...</td>\n",
       "      <td>true</td>\n",
       "      <td>School district offer birth control in high sc...</td>\n",
       "      <td>true</td>\n",
       "      <td>0.273244</td>\n",
       "    </tr>\n",
       "    <tr>\n",
       "      <th>1</th>\n",
       "      <td>More infected in fresh wave of China bird flu ...</td>\n",
       "      <td>true</td>\n",
       "      <td>Death toll from new China bird flu rises: WHO.</td>\n",
       "      <td>true</td>\n",
       "      <td>0.345577</td>\n",
       "    </tr>\n",
       "    <tr>\n",
       "      <th>2</th>\n",
       "      <td>Raw Milk Straight from the Cow</td>\n",
       "      <td>true</td>\n",
       "      <td>Straight-talking Fauci explains outbreak to a ...</td>\n",
       "      <td>true</td>\n",
       "      <td>0.420198</td>\n",
       "    </tr>\n",
       "    <tr>\n",
       "      <th>3</th>\n",
       "      <td>Trump: Asian-Americans not responsible for vir...</td>\n",
       "      <td>true</td>\n",
       "      <td>Heroic nurses need full protection against cor...</td>\n",
       "      <td>true</td>\n",
       "      <td>0.339628</td>\n",
       "    </tr>\n",
       "    <tr>\n",
       "      <th>4</th>\n",
       "      <td>November 29, 2017</td>\n",
       "      <td>National, Candidate Biography, Donald Trump,</td>\n",
       "      <td>The FDA published “conclusive proof” that the...</td>\n",
       "      <td>false</td>\n",
       "      <td>0.327621</td>\n",
       "    </tr>\n",
       "    <tr>\n",
       "      <th>...</th>\n",
       "      <td>...</td>\n",
       "      <td>...</td>\n",
       "      <td>...</td>\n",
       "      <td>...</td>\n",
       "      <td>...</td>\n",
       "    </tr>\n",
       "    <tr>\n",
       "      <th>443</th>\n",
       "      <td>We're not engaged in nation-building\" in Afgha...</td>\n",
       "      <td>mixture</td>\n",
       "      <td>“We’re down near the low end of per capita dea...</td>\n",
       "      <td>false</td>\n",
       "      <td>0.227977</td>\n",
       "    </tr>\n",
       "    <tr>\n",
       "      <th>444</th>\n",
       "      <td>There are reports of suicides   and even murd...</td>\n",
       "      <td>mixture</td>\n",
       "      <td>This is COVID-19, not COVID-1, folks. And so y...</td>\n",
       "      <td>false</td>\n",
       "      <td>0.179715</td>\n",
       "    </tr>\n",
       "    <tr>\n",
       "      <th>445</th>\n",
       "      <td>The state of Florida has seen \"double-digit dr...</td>\n",
       "      <td>true</td>\n",
       "      <td>\"Sexting\"\" again linked to risky sex among tee...</td>\n",
       "      <td>true</td>\n",
       "      <td>0.309186</td>\n",
       "    </tr>\n",
       "    <tr>\n",
       "      <th>446</th>\n",
       "      <td>Sylentis announces the results of tivanisiran ...</td>\n",
       "      <td>mixture</td>\n",
       "      <td>Minnesota OKs medical cannabis for chronic pai...</td>\n",
       "      <td>true</td>\n",
       "      <td>0.202549</td>\n",
       "    </tr>\n",
       "    <tr>\n",
       "      <th>447</th>\n",
       "      <td>US regulators clear path for genetically modif...</td>\n",
       "      <td>true</td>\n",
       "      <td>In an average grocery store, roughly 75 percen...</td>\n",
       "      <td>mixture</td>\n",
       "      <td>0.252770</td>\n",
       "    </tr>\n",
       "  </tbody>\n",
       "</table>\n",
       "<p>448 rows × 5 columns</p>\n",
       "</div>"
      ],
      "text/plain": [
       "                                         initial claim  \\\n",
       "0    School closures will have little impact on COV...   \n",
       "1    More infected in fresh wave of China bird flu ...   \n",
       "2                       Raw Milk Straight from the Cow   \n",
       "3    Trump: Asian-Americans not responsible for vir...   \n",
       "4                                    November 29, 2017   \n",
       "..                                                 ...   \n",
       "443  We're not engaged in nation-building\" in Afgha...   \n",
       "444   There are reports of suicides   and even murd...   \n",
       "445  The state of Florida has seen \"double-digit dr...   \n",
       "446  Sylentis announces the results of tivanisiran ...   \n",
       "447  US regulators clear path for genetically modif...   \n",
       "\n",
       "                                     initial label  \\\n",
       "0                                             true   \n",
       "1                                             true   \n",
       "2                                             true   \n",
       "3                                             true   \n",
       "4    National, Candidate Biography, Donald Trump,    \n",
       "..                                             ...   \n",
       "443                                        mixture   \n",
       "444                                        mixture   \n",
       "445                                           true   \n",
       "446                                        mixture   \n",
       "447                                           true   \n",
       "\n",
       "                                          gensim claim gensim label  \\\n",
       "0    School district offer birth control in high sc...         true   \n",
       "1       Death toll from new China bird flu rises: WHO.         true   \n",
       "2    Straight-talking Fauci explains outbreak to a ...         true   \n",
       "3    Heroic nurses need full protection against cor...         true   \n",
       "4     The FDA published “conclusive proof” that the...        false   \n",
       "..                                                 ...          ...   \n",
       "443  “We’re down near the low end of per capita dea...        false   \n",
       "444  This is COVID-19, not COVID-1, folks. And so y...        false   \n",
       "445  \"Sexting\"\" again linked to risky sex among tee...         true   \n",
       "446  Minnesota OKs medical cannabis for chronic pai...         true   \n",
       "447  In an average grocery store, roughly 75 percen...      mixture   \n",
       "\n",
       "     similarity  \n",
       "0      0.273244  \n",
       "1      0.345577  \n",
       "2      0.420198  \n",
       "3      0.339628  \n",
       "4      0.327621  \n",
       "..          ...  \n",
       "443    0.227977  \n",
       "444    0.179715  \n",
       "445    0.309186  \n",
       "446    0.202549  \n",
       "447    0.252770  \n",
       "\n",
       "[448 rows x 5 columns]"
      ]
     },
     "execution_count": 181,
     "metadata": {},
     "output_type": "execute_result"
    }
   ],
   "source": [
    "final_dev"
   ]
  },
  {
   "cell_type": "code",
   "execution_count": 198,
   "id": "32f4b606",
   "metadata": {},
   "outputs": [
    {
     "data": {
      "text/plain": [
       "0.5580357142857143"
      ]
     },
     "execution_count": 198,
     "metadata": {},
     "output_type": "execute_result"
    }
   ],
   "source": [
    "final_dev['score'] = final_dev['initial label'] == final_dev['gensim label']\n",
    "\n",
    "# average score for all predictions\n",
    "\n",
    "sum(final_dev['score'])/len(final_dev)"
   ]
  },
  {
   "cell_type": "code",
   "execution_count": 197,
   "id": "99d0ac77",
   "metadata": {},
   "outputs": [
    {
     "name": "stderr",
     "output_type": "stream",
     "text": [
      "/var/folders/__/6ygy68tn6c74340_57scyx500000gn/T/ipykernel_67600/3482985148.py:3: UserWarning: \n",
      "\n",
      "`distplot` is a deprecated function and will be removed in seaborn v0.14.0.\n",
      "\n",
      "Please adapt your code to use either `displot` (a figure-level function with\n",
      "similar flexibility) or `histplot` (an axes-level function for histograms).\n",
      "\n",
      "For a guide to updating your code to use the new functions, please see\n",
      "https://gist.github.com/mwaskom/de44147ed2974457ad6372750bbe5751\n",
      "\n",
      "  sns.distplot(x=final_dev['similarity'],bins=10,kde=False)\n"
     ]
    },
    {
     "data": {
      "text/plain": [
       "<AxesSubplot: >"
      ]
     },
     "execution_count": 197,
     "metadata": {},
     "output_type": "execute_result"
    },
    {
     "data": {
      "image/png": "[encoded data removed]",
      "text/plain": [
       "<Figure size 640x480 with 1 Axes>"
      ]
     },
     "metadata": {},
     "output_type": "display_data"
    }
   ],
   "source": [
    "# looking at overall similarity scores\n",
    "\n",
    "sns.distplot(x=final_dev['similarity'],bins=10,kde=False)"
   ]
  },
  {
   "cell_type": "code",
   "execution_count": 204,
   "id": "0f4847c6",
   "metadata": {},
   "outputs": [
    {
     "data": {
      "text/plain": [
       "0.6896551724137931"
      ]
     },
     "execution_count": 204,
     "metadata": {},
     "output_type": "execute_result"
    }
   ],
   "source": [
    "# average score for predictions with over .3 similarity\n",
    "\n",
    "sum(final_dev[final_dev['similarity'] > 0.3]['score'])/len(final_dev[final_dev['similarity'] > 0.3])"
   ]
  },
  {
   "cell_type": "code",
   "execution_count": 205,
   "id": "b3e4016e",
   "metadata": {},
   "outputs": [
    {
     "data": {
      "text/plain": [
       "0.8"
      ]
     },
     "execution_count": 205,
     "metadata": {},
     "output_type": "execute_result"
    }
   ],
   "source": [
    "# average score for predictions with over .4 similarity\n",
    "\n",
    "sum(final_dev[final_dev['similarity'] > 0.4]['score'])/len(final_dev[final_dev['similarity'] > 0.4])"
   ]
  },
  {
   "cell_type": "code",
   "execution_count": 206,
   "id": "c95edfdb",
   "metadata": {},
   "outputs": [
    {
     "data": {
      "text/plain": [
       "0.9333333333333333"
      ]
     },
     "execution_count": 206,
     "metadata": {},
     "output_type": "execute_result"
    }
   ],
   "source": [
    "# average score for predictions with over .4 similarity\n",
    "\n",
    "sum(final_dev[final_dev['similarity'] > 0.5]['score'])/len(final_dev[final_dev['similarity'] > 0.5])"
   ]
  },
  {
   "cell_type": "code",
   "execution_count": null,
   "id": "f88a0afe",
   "metadata": {},
   "outputs": [],
   "source": []
  },
  {
   "cell_type": "markdown",
   "id": "29d641db",
   "metadata": {},
   "source": [
    "## Normal Classifiers"
   ]
  },
  {
   "cell_type": "code",
   "execution_count": null,
   "id": "e2deb3df",
   "metadata": {},
   "outputs": [],
   "source": []
  },
  {
   "cell_type": "code",
   "execution_count": null,
   "id": "8f72e019",
   "metadata": {},
   "outputs": [],
   "source": []
  },
  {
   "cell_type": "code",
   "execution_count": null,
   "id": "a0c671d8",
   "metadata": {},
   "outputs": [],
   "source": []
  },
  {
   "cell_type": "code",
   "execution_count": null,
   "id": "2a08a34b",
   "metadata": {},
   "outputs": [],
   "source": []
  },
  {
   "cell_type": "code",
   "execution_count": null,
   "id": "a2277cd5",
   "metadata": {},
   "outputs": [],
   "source": []
  }
 ],
 "metadata": {
  "kernelspec": {
   "display_name": "Python 3 (ipykernel)",
   "language": "python",
   "name": "python3"
  },
  "language_info": {
   "codemirror_mode": {
    "name": "ipython",
    "version": 3
   },
   "file_extension": ".py",
   "mimetype": "text/x-python",
   "name": "python",
   "nbconvert_exporter": "python",
   "pygments_lexer": "ipython3",
   "version": "3.9.13"
  }
 },
 "nbformat": 4,
 "nbformat_minor": 5
}
